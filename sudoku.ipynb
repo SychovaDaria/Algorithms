{
 "cells": [
  {
   "cell_type": "code",
   "execution_count": 3,
   "metadata": {},
   "outputs": [],
   "source": [
    "import random\n",
    "import numpy as np\n"
   ]
  },
  {
   "cell_type": "markdown",
   "metadata": {},
   "source": [
    "# Basic strategy"
   ]
  },
  {
   "cell_type": "code",
   "execution_count": 4,
   "metadata": {},
   "outputs": [],
   "source": [
    "def generate_initial_candidate(size):\n",
    "    board = np.zeros((size, size), dtype=int)\n",
    "    numbers = list(range(1, size + 1))\n",
    "    for row in range(size):\n",
    "        row_numbers = numbers.copy()\n",
    "        random.shuffle(row_numbers)\n",
    "        board[row, :] = row_numbers\n",
    "    return board"
   ]
  },
  {
   "cell_type": "code",
   "execution_count": 5,
   "metadata": {},
   "outputs": [
    {
     "name": "stdout",
     "output_type": "stream",
     "text": [
      "[[ 6 15  1 12  3 10 11 14  7  2  5 16  4 13  9  8]\n",
      " [ 3  4 16 12  2  7  9  5 14  8  6  1 11 15 13 10]\n",
      " [ 3  8 14  9 10  2  4  1 13  6 12  7 16  5 15 11]\n",
      " [11  5  8  9 15  3 12  7  4 16  1  6 10 13  2 14]\n",
      " [14  9  1 10 12 15  6  7  2  5  3  4 16  8 11 13]\n",
      " [15  3  1 13  2  6  8 14 16 11  4 10  7  5 12  9]\n",
      " [11  2 13  6  3  5  9  7 10 15 16  1 12 14  4  8]\n",
      " [13  3  2 10  4  8  1 16 14  6 11 15  5  9 12  7]\n",
      " [ 1 10 13 12  7  2 15  8 14  4  6 16  3  9 11  5]\n",
      " [15  2  7 12  8  6  1 11  3 13 16  5  4 10 14  9]\n",
      " [12  4  3  6  1  5  2  8 11 15  9  7 14 10 13 16]\n",
      " [14 12  3  1  4 16  6 10  5 15 13  7  8  2 11  9]\n",
      " [11  6 16  1 10  2  7 13  3 14  5  8  9 12 15  4]\n",
      " [11  7 13  5 14  1 10 16  3  8  9 15  2 12  6  4]\n",
      " [10  6  7  5  3 13 11  8  9 16 14  2 15 12  4  1]\n",
      " [13  4 11  2  3  9 15  7  8 16 14  5  1 12 10  6]]\n"
     ]
    }
   ],
   "source": [
    "size = 16\n",
    "initial_candidate = generate_initial_candidate(size)\n",
    "print(initial_candidate)"
   ]
  },
  {
   "cell_type": "code",
   "execution_count": 6,
   "metadata": {},
   "outputs": [],
   "source": [
    "def evaluate(board): # a number of mistakes\n",
    "    size = len(board)\n",
    "    subgrid_size = 4\n",
    "    violations = 0\n",
    "    \n",
    "    # Evaluate rows\n",
    "    for row in board:\n",
    "        violations += (size - len(set(row)))\n",
    "    \n",
    "    # Evaluate columns\n",
    "    for col in board.T:\n",
    "        violations += (size - len(set(col)))\n",
    "    \n",
    "    # Evaluate sub-grids\n",
    "    for i in range(0, size, subgrid_size):\n",
    "        for j in range(0, size, subgrid_size):\n",
    "            sub_grid = board[i:i+subgrid_size, j:j+subgrid_size].flatten()\n",
    "            violations += (size - len(set(sub_grid)))\n",
    "    \n",
    "    return violations\n",
    "\n",
    "\n",
    "\n",
    "\n",
    "\n"
   ]
  },
  {
   "cell_type": "code",
   "execution_count": 7,
   "metadata": {},
   "outputs": [
    {
     "name": "stdout",
     "output_type": "stream",
     "text": [
      "173\n"
     ]
    }
   ],
   "source": [
    "print(evaluate(initial_candidate))"
   ]
  },
  {
   "cell_type": "code",
   "execution_count": 8,
   "metadata": {},
   "outputs": [],
   "source": [
    "def swap_random_elements(board): # change place for 2 elements in one row\n",
    "    new_board = board.copy()\n",
    "    row = random.randint(0, len(board) - 1)\n",
    "    col1, col2 = random.sample(range(len(board)), 2)\n",
    "    new_board[row, col1], new_board[row, col2] = new_board[row, col2], new_board[row, col1]\n",
    "    return new_board"
   ]
  },
  {
   "cell_type": "markdown",
   "metadata": {},
   "source": [
    "# Different strategies"
   ]
  },
  {
   "cell_type": "code",
   "execution_count": 9,
   "metadata": {},
   "outputs": [],
   "source": [
    "def swap_random_elements_in_column(board): # change place for 2 elements in one column\n",
    "    new_board = board.copy()\n",
    "    col = random.randint(0, len(board) - 1)\n",
    "    row1, row2 = random.sample(range(len(board)), 2)\n",
    "    new_board[row1, col], new_board[row2, col] = new_board[row2, col], new_board[row1, col]\n",
    "    return new_board\n"
   ]
  },
  {
   "cell_type": "code",
   "execution_count": 10,
   "metadata": {},
   "outputs": [],
   "source": [
    "def swap_random_elements_in_subgrid(board): # change place for two elements in one subgrid\n",
    "    new_board = board.copy()\n",
    "    subgrid_size = 4\n",
    "    subgrid_row = random.randint(0, len(board) // subgrid_size - 1) * subgrid_size\n",
    "    subgrid_col = random.randint(0, len(board) // subgrid_size - 1) * subgrid_size\n",
    "    row1, col1 = random.randint(0, subgrid_size - 1), random.randint(0, subgrid_size - 1)\n",
    "    row2, col2 = random.randint(0, subgrid_size - 1), random.randint(0, subgrid_size - 1)\n",
    "    new_board[subgrid_row + row1, subgrid_col + col1], new_board[subgrid_row + row2, subgrid_col + col2] = new_board[subgrid_row + row2, subgrid_col + col2], new_board[subgrid_row + row1, subgrid_col + col1]\n",
    "    return new_board\n"
   ]
  },
  {
   "cell_type": "code",
   "execution_count": 11,
   "metadata": {},
   "outputs": [],
   "source": [
    "def swap_random_rows(board): # swaps rows\n",
    "    new_board = board.copy()\n",
    "    row1, row2 = random.sample(range(len(board)), 2)\n",
    "    new_board[[row1, row2], :] = new_board[[row2, row1], :]\n",
    "    return new_board\n"
   ]
  },
  {
   "cell_type": "code",
   "execution_count": 12,
   "metadata": {},
   "outputs": [],
   "source": [
    "def swap_random_columns(board): #swaps columns\n",
    "    new_board = board.copy()\n",
    "    col1, col2 = random.sample(range(len(board)), 2)\n",
    "    new_board[:, [col1, col2]] = new_board[:, [col2, col1]]\n",
    "    return new_board\n"
   ]
  },
  {
   "cell_type": "markdown",
   "metadata": {},
   "source": [
    "#### Hill climbing"
   ]
  },
  {
   "cell_type": "code",
   "execution_count": 19,
   "metadata": {},
   "outputs": [],
   "source": [
    "def hill_climbing(size, swap_function, max_restarts=10):\n",
    "    best_overall_score = float('inf')\n",
    "    best_overall_board = None\n",
    "    \n",
    "    for _ in range(max_restarts):\n",
    "        current_board = generate_initial_candidate(size)\n",
    "        current_score = evaluate(current_board)\n",
    "        \n",
    "        while True:\n",
    "            best_neighbor = current_board\n",
    "            best_score = current_score\n",
    "            \n",
    "            for _ in range(1000):\n",
    "                neighbor = swap_function(current_board.copy())\n",
    "                neighbor_score = evaluate(neighbor)\n",
    "                \n",
    "                if neighbor_score < best_score:\n",
    "                    best_neighbor = neighbor\n",
    "                    best_score = neighbor_score\n",
    "            \n",
    "            if best_score == current_score:\n",
    "                break\n",
    "            \n",
    "            current_board = best_neighbor\n",
    "            current_score = best_score\n",
    "        \n",
    "        if current_score < best_overall_score:\n",
    "            best_overall_score = current_score\n",
    "            best_overall_board = best_neighbor\n",
    "    \n",
    "    return best_overall_board, best_overall_score\n",
    "\n",
    "# Initialize and run the hill climbing algorithm\n",
    "size = 16\n",
    "strategies = {\n",
    "    'swap_random_elements': swap_random_elements,\n",
    "    'swap_random_elements_in_column': swap_random_elements_in_column,\n",
    "    'swap_random_elements_in_subgrid': swap_random_elements_in_subgrid,\n",
    "    'swap_random_rows': swap_random_rows,\n",
    "    'swap_random_columns': swap_random_columns\n",
    "}\n",
    "\n",
    "results = {}"
   ]
  },
  {
   "cell_type": "code",
   "execution_count": 20,
   "metadata": {},
   "outputs": [
    {
     "name": "stdout",
     "output_type": "stream",
     "text": [
      "Testing strategy: swap_random_elements\n",
      "Final board for swap_random_elements strategy:\n",
      "[[ 3 11  6 16  4  7 12  5 15  8  9 10  1 13  2 14]\n",
      " [16 15  5  8 10 14 13  2  7  6  1  4  3 11  9 12]\n",
      " [ 4  9  7 10  3 16  6  1 13 11  2 14 15 12  5  8]\n",
      " [13  1  2 14 15 11  8  9 12  6  3  5 16  7  4 10]\n",
      " [12  5  9 11  1  3  6 16  2 14  4 10  8 15  7 13]\n",
      " [15 13 16  4  9  8 14 12  3  7 11  6  2  1 10  5]\n",
      " [ 8  6 10  2  7  5  4 15  9 13 16  1 12 14  3 11]\n",
      " [14  7  3  1  2 13 11 10  8 12  5 15  4 16  6  9]\n",
      " [ 9 12  4 15 14  2  3 11 16 10  7  8 13  5  1  6]\n",
      " [11  8  1  6 12 15 10  7  4  5 13  2 14  9 16  3]\n",
      " [10 16 14  5 13  1  9  4 15  3 12  6  7  8 11  2]\n",
      " [ 7  2 13  3  5 12 16  6 11  9 14  1 10  4  8 15]\n",
      " [14 10 16  9 12  4  7 13  1  2  6 11  5  3 15  8]\n",
      " [ 2  5 15 12 11  6  1  3 14 16  8  9  7 10 13  4]\n",
      " [ 1  3 11 13  8 10  2 15  5  4 12  7  9  6 14 16]\n",
      " [ 6  4  8  7 16  9  5 14 10 15  3 13 11  2 12  1]]\n",
      "Score: 20\n",
      "Testing strategy: swap_random_elements_in_column\n",
      "Final board for swap_random_elements_in_column strategy:\n",
      "[[ 7  1 11 10  6  5  8 14 15 12  2  3 13  9 16  4]\n",
      " [13  9 15 10  4 11 14  1  5 16  2  6  7  8 12  3]\n",
      " [12  9  3 14  5  2 13  8 15  4  1  7 16 10  6 11]\n",
      " [ 4 16  8  6 10 15  9  7  2 12 13  5 14  1  3 11]\n",
      " [15 16 10 11 12 14  9  6  7  3  5 13  8  1  4  2]\n",
      " [ 3  2  9 14 13 12  1  7  4  5 15  8 10 16  6 11]\n",
      " [ 7  6 12 15 10  8  3 14 11  2  1 16  5 13  9  4]\n",
      " [ 9  5 13  6 14  3  4 15 10  8 12  1  7  2 11 16]\n",
      " [11 13  7  3  8 12  6 10  5  9  2 14 15 16  1  4]\n",
      " [14 11 15 10  3  7 12 16  2  4  5  9  1 13  6  8]\n",
      " [15 16  5 14  3 10  7 11  1  8  2  4  9 13  6 12]\n",
      " [15  7  1  9 10  3 16  5  6  8 12 11  4  2 14 13]\n",
      " [ 3 14  1  4  8  6 16 11 15  7  5 13 10  9  2 12]\n",
      " [ 5  4  6 12 13 11  3  8 14  7  1 15 16 10  9  2]\n",
      " [ 1  8 11 10 14 13 16  7  9  3  4  6 12 15  2  5]\n",
      " [ 3  2  4  7 16  9 14 15 13 10  8  5 12 11  1  6]]\n",
      "Score: 152\n",
      "Testing strategy: swap_random_elements_in_subgrid\n",
      "Final board for swap_random_elements_in_subgrid strategy:\n",
      "[[16  6 10  9 15 13  1  8  7 14 12  2 11  5  3  4]\n",
      " [14 12 13 11  6  5  7 16  1  9  8 15  2  3 10  4]\n",
      " [12 14  2  1 11  6  8  4 15  3  9 16  7 13  5 10]\n",
      " [14  2 13 16  7  3  4  9  8 15  6  1 11 10  5 12]\n",
      " [11 16  6  7  1 14  3 15 10 12  4  5 13  9  8  2]\n",
      " [15 13  7  5  3  9 14 12 16  8 10  6  1  2 11  4]\n",
      " [14  5  1  7  2 15  4  8  9 11 13  6 12 16 10  3]\n",
      " [13  8 11  7  6 12 16 10  9  5 14  3  2 15  4  1]\n",
      " [ 9 16 15 11 10  2 13 14  5  8  3  7  4  6 12  1]\n",
      " [ 3 16  5 15  8  1  6 13  4  7 11  9 10 12  2 14]\n",
      " [13  3 14  2  9 10 11  5 12 16  7  4  6  1 15  8]\n",
      " [10 15 12 13  3  8  2  6 14  1  9  5 16  4  7 11]\n",
      " [ 1  9 11  6  4 16 15  2 13  5 14 12 10  8  3  7]\n",
      " [ 5  7 16  8 12  4  9  2  6 10 11 14  3  1 13 15]\n",
      " [ 2 11  8 10 14  7  4  3 12  6  5 13 15  1  9 16]\n",
      " [ 7 10  9 14 13  6 12  2 11  4 16  8  5 15  1  3]]\n",
      "Score: 121\n",
      "Testing strategy: swap_random_rows\n",
      "Final board for swap_random_rows strategy:\n",
      "[[ 2  9 12 10  1  3  8  5  7 13  6 11 14 16  4 15]\n",
      " [ 7  6  4 16  9 12 15 10  1  2  8 13  5  3 14 11]\n",
      " [ 3 14 10 11 15  2  7  9 16  4  1 12 13  5  6  8]\n",
      " [ 6 15 13 14  5 16  1  7 10  3  2  4  9 12  8 11]\n",
      " [14 16  2 13 15  8  1  3 10  9 12  6  4  5 11  7]\n",
      " [ 3  7 12  2  6  9 11 10 15  4  1 16  5 14  8 13]\n",
      " [ 6  3  4 14  8  7 13 16 11 15 10  2  5  1 12  9]\n",
      " [ 4 13 10  1 16 11  6 14  5  8 12  3  2  7  9 15]\n",
      " [ 7 15  4  5 14  9  1 12 13  3  8 10 16  6  2 11]\n",
      " [ 3  1  8 10 14 13  9 15 16  2  5 11  4  6  7 12]\n",
      " [ 6  2  1  9 13 12  8 11  7  4 15 16  5 10  3 14]\n",
      " [11 12  1 14  7 10  6  3  4 13  2 16 15  5  9  8]\n",
      " [ 3  2 16 10  1 11  5 15 14  6  4 13  8  9  7 12]\n",
      " [11  4  2  8  7 14  3 12  6 10 16  1 13 15  5  9]\n",
      " [ 3 10  6  8 13  5  1  2  9 12 11 15 14  7 16  4]\n",
      " [ 9 11  7 12 16  1 13 10  8  5  4  2 15 14  3  6]]\n",
      "Score: 141\n",
      "Testing strategy: swap_random_columns\n",
      "Final board for swap_random_columns strategy:\n",
      "[[16 14 12  9  6  2  1  4 10 13  7  5  8  3 11 15]\n",
      " [ 1  4  3  5  9 16  8 14  6 13 11 10  2  7 12 15]\n",
      " [ 6 10  7 13 16  3 14 15  5  1  2  4  8 12 11  9]\n",
      " [ 1  9 15  3 13 11 16 10  4 12  7  2 14  6  5  8]\n",
      " [ 1  8 15 13  3  6 10 12 14  4  5  2  7 11  9 16]\n",
      " [12 13  9 11  8  5  2  4 10  7 16  6  1  3 15 14]\n",
      " [ 5 13  4 11 15  3  2  9 14 16 10  8 12  7  1  6]\n",
      " [13 14  2  6 16  3 11  7  1  9  5 12 15  8  4 10]\n",
      " [13 14  2 15  8 10  5  4 11  9  6  1  7 16  3 12]\n",
      " [ 9 15  1  7  2 12  6 16 10  5 11  3 14  8 13  4]\n",
      " [11  7 13  6  3  9  1 10  8  4  5 14 12 16 15  2]\n",
      " [ 2  3  5  4 11 12  8 10 15  9  7  1 14 16  6 13]\n",
      " [ 1  3  8 10 13 15  2 11  6 14  9  7  5 16  4 12]\n",
      " [ 9 12 11  2  5  8 13 16  3  7  1 10  4 15  6 14]\n",
      " [15 16 11  4 10 12 13  6  2  1  5 14  8  3  7  9]\n",
      " [ 2  5  9 16  1  4 14 13  6  8  3 15 10  7 11 12]]\n",
      "Score: 145\n",
      "Strategy: swap_random_elements, Score: 20\n",
      "Strategy: swap_random_elements_in_column, Score: 152\n",
      "Strategy: swap_random_elements_in_subgrid, Score: 121\n",
      "Strategy: swap_random_rows, Score: 141\n",
      "Strategy: swap_random_columns, Score: 145\n"
     ]
    }
   ],
   "source": [
    "for name, strategy in strategies.items():\n",
    "    print(f\"Testing strategy: {name}\")\n",
    "    final_board, final_score = hill_climbing(size, strategy)\n",
    "    results[name] = final_score\n",
    "    print(f\"Final board for {name} strategy:\")\n",
    "    print(final_board)\n",
    "    print(f\"Score: {final_score}\")\n",
    "\n",
    "# Output the results\n",
    "for strategy_name, score in results.items():\n",
    "    print(f\"Strategy: {strategy_name}, Score: {score}\")"
   ]
  },
  {
   "cell_type": "markdown",
   "metadata": {},
   "source": [
    "We can see thet best resalt we have using usual random swap "
   ]
  },
  {
   "cell_type": "code",
   "execution_count": null,
   "metadata": {},
   "outputs": [],
   "source": []
  }
 ],
 "metadata": {
  "kernelspec": {
   "display_name": "Python 3",
   "language": "python",
   "name": "python3"
  },
  "language_info": {
   "codemirror_mode": {
    "name": "ipython",
    "version": 3
   },
   "file_extension": ".py",
   "mimetype": "text/x-python",
   "name": "python",
   "nbconvert_exporter": "python",
   "pygments_lexer": "ipython3",
   "version": "3.12.3"
  }
 },
 "nbformat": 4,
 "nbformat_minor": 2
}
